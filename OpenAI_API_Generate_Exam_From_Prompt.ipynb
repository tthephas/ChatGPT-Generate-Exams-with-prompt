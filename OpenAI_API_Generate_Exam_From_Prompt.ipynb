{
 "cells": [
  {
   "cell_type": "code",
   "execution_count": 1,
   "id": "35cd61ec",
   "metadata": {},
   "outputs": [],
   "source": [
    "import os \n",
    "\n",
    "import openai "
   ]
  },
  {
   "cell_type": "code",
   "execution_count": 20,
   "id": "dc46cf3f",
   "metadata": {},
   "outputs": [],
   "source": [
    "openai.api_key = os.getenv('OPENAI_API_KEY') "
   ]
  },
  {
   "cell_type": "code",
   "execution_count": 3,
   "id": "58177558",
   "metadata": {},
   "outputs": [],
   "source": [
    "def create_test_prompt(topic, num_questions, num_possible_answers):\n",
    "    prompt = f\"Create a multiple choice quiz on the topic of {topic} consisting of {num_questions}. \"\\\n",
    "            +f\"Each question should have {num_possible_answers} options. \"\\\n",
    "            +f\"Also include the correct answer for each question using the starting string 'Correct Answer:' \"\n",
    "    return prompt"
   ]
  },
  {
   "cell_type": "code",
   "execution_count": 4,
   "id": "4a0aab03",
   "metadata": {},
   "outputs": [],
   "source": [
    "response = openai.Completion.create(engine='text-davinci-003',\n",
    "                                   prompt=create_test_prompt('US History',4,4),\n",
    "                                   max_tokens=256,\n",
    "                                    temperature=0.7)"
   ]
  },
  {
   "cell_type": "code",
   "execution_count": 5,
   "id": "193abd6e",
   "metadata": {},
   "outputs": [
    {
     "name": "stdout",
     "output_type": "stream",
     "text": [
      "\n",
      "\n",
      "Q1: Who was the first president of the United States?\n",
      "A. John Adams\n",
      "B. Thomas Jefferson\n",
      "C. George Washington\n",
      "D. Benjamin Franklin\n",
      "Correct Answer: C. George Washington\n",
      "\n",
      "Q2: What year was the Declaration of Independence signed?\n",
      "A. 1776\n",
      "B. 1783\n",
      "C. 1787\n",
      "D. 1789\n",
      "Correct Answer: A. 1776\n",
      "\n",
      "Q3: What event marked the end of the American Revolutionary War?\n",
      "A. Battle of Bunker Hill\n",
      "B. Battle of Yorktown\n",
      "C. Battle of Saratoga\n",
      "D. Battle of Valley Forge\n",
      "Correct Answer: B. Battle of Yorktown\n",
      "\n",
      "Q4: Who wrote the Federalist Papers?\n",
      "A. Thomas Jefferson\n",
      "B. Alexander Hamilton\n",
      "C. James Madison\n",
      "D. John Adams\n",
      "Correct Answer: C. James Madison\n"
     ]
    }
   ],
   "source": [
    "print(response['choices'][0]['text'])"
   ]
  },
  {
   "cell_type": "code",
   "execution_count": 6,
   "id": "9dd21214",
   "metadata": {},
   "outputs": [],
   "source": [
    "def create_student_view(test,num_questions):\n",
    "    student_view = {1:''}\n",
    "    question_number = 1\n",
    "    for line in test.split(\"\\n\"):\n",
    "        if not line.startswith(\"Correct Answer:\"):\n",
    "            student_view[question_number] += line+'\\n'\n",
    "        else:\n",
    "            if question_number < num_questions:\n",
    "                question_number +=1\n",
    "                student_view[question_number] = ''\n",
    "    return student_view"
   ]
  },
  {
   "cell_type": "code",
   "execution_count": 7,
   "id": "9e834013",
   "metadata": {},
   "outputs": [],
   "source": [
    "result = create_student_view(response['choices'][0]['text'],4)"
   ]
  },
  {
   "cell_type": "code",
   "execution_count": 8,
   "id": "0e504175",
   "metadata": {},
   "outputs": [
    {
     "name": "stdout",
     "output_type": "stream",
     "text": [
      "\n",
      "\n",
      "Q1: Who was the first president of the United States?\n",
      "A. John Adams\n",
      "B. Thomas Jefferson\n",
      "C. George Washington\n",
      "D. Benjamin Franklin\n",
      "\n",
      "\n",
      "Q2: What year was the Declaration of Independence signed?\n",
      "A. 1776\n",
      "B. 1783\n",
      "C. 1787\n",
      "D. 1789\n",
      "\n",
      "\n",
      "Q3: What event marked the end of the American Revolutionary War?\n",
      "A. Battle of Bunker Hill\n",
      "B. Battle of Yorktown\n",
      "C. Battle of Saratoga\n",
      "D. Battle of Valley Forge\n",
      "\n",
      "\n",
      "Q4: Who wrote the Federalist Papers?\n",
      "A. Thomas Jefferson\n",
      "B. Alexander Hamilton\n",
      "C. James Madison\n",
      "D. John Adams\n",
      "\n"
     ]
    }
   ],
   "source": [
    "for key in result:\n",
    "    print(result[key])"
   ]
  },
  {
   "cell_type": "code",
   "execution_count": 9,
   "id": "a57366c7",
   "metadata": {},
   "outputs": [],
   "source": [
    "def extract_answer(test,num_questions):\n",
    "    answers = {1:''}\n",
    "    question_number = 1\n",
    "    for line in test.split(\"\\n\"):\n",
    "        if line.startswith(\"Correct Answer:\"):\n",
    "            answers[question_number] += line+'\\n'\n",
    "\n",
    "            if question_number < num_questions:\n",
    "                question_number +=1\n",
    "                answers[question_number] = ''\n",
    "    return answers"
   ]
  },
  {
   "cell_type": "code",
   "execution_count": 10,
   "id": "376a44fb",
   "metadata": {},
   "outputs": [
    {
     "data": {
      "text/plain": [
       "{1: 'Correct Answer: C. George Washington\\n',\n",
       " 2: 'Correct Answer: A. 1776\\n',\n",
       " 3: 'Correct Answer: B. Battle of Yorktown\\n',\n",
       " 4: 'Correct Answer: C. James Madison\\n'}"
      ]
     },
     "execution_count": 10,
     "metadata": {},
     "output_type": "execute_result"
    }
   ],
   "source": [
    "extract_answer(response['choices'][0]['text'],4)"
   ]
  },
  {
   "cell_type": "code",
   "execution_count": 11,
   "id": "ec9ec1b4",
   "metadata": {},
   "outputs": [],
   "source": [
    "student_view = create_student_view(response['choices'][0]['text'],4)"
   ]
  },
  {
   "cell_type": "code",
   "execution_count": 12,
   "id": "c7cecc39",
   "metadata": {},
   "outputs": [],
   "source": [
    "answers = extract_answer(response['choices'][0]['text'],4)"
   ]
  },
  {
   "cell_type": "code",
   "execution_count": 13,
   "id": "484a3335",
   "metadata": {},
   "outputs": [],
   "source": [
    "# take the exam\n",
    "def take(student_view):\n",
    "    student_answers= {}\n",
    "    for question, question_view in student_view.items():\n",
    "        print(question_view)\n",
    "        answer = input(\"Enter your answer: \")\n",
    "        student_answers[question] = answer\n",
    "    return student_answers"
   ]
  },
  {
   "cell_type": "code",
   "execution_count": 14,
   "id": "7484ec30",
   "metadata": {},
   "outputs": [
    {
     "name": "stdout",
     "output_type": "stream",
     "text": [
      "\n",
      "\n",
      "Q1: Who was the first president of the United States?\n",
      "A. John Adams\n",
      "B. Thomas Jefferson\n",
      "C. George Washington\n",
      "D. Benjamin Franklin\n",
      "\n",
      "Enter your answer: josh t\n",
      "\n",
      "Q2: What year was the Declaration of Independence signed?\n",
      "A. 1776\n",
      "B. 1783\n",
      "C. 1787\n",
      "D. 1789\n",
      "\n",
      "Enter your answer: 1776\n",
      "\n",
      "Q3: What event marked the end of the American Revolutionary War?\n",
      "A. Battle of Bunker Hill\n",
      "B. Battle of Yorktown\n",
      "C. Battle of Saratoga\n",
      "D. Battle of Valley Forge\n",
      "\n",
      "Enter your answer: battle\n",
      "\n",
      "Q4: Who wrote the Federalist Papers?\n",
      "A. Thomas Jefferson\n",
      "B. Alexander Hamilton\n",
      "C. James Madison\n",
      "D. John Adams\n",
      "\n",
      "Enter your answer: john adams\n"
     ]
    }
   ],
   "source": [
    "student_answers = take(student_view)"
   ]
  },
  {
   "cell_type": "code",
   "execution_count": 15,
   "id": "e3313a46",
   "metadata": {},
   "outputs": [
    {
     "data": {
      "text/plain": [
       "{1: 'josh t', 2: '1776', 3: 'battle', 4: 'john adams'}"
      ]
     },
     "execution_count": 15,
     "metadata": {},
     "output_type": "execute_result"
    }
   ],
   "source": [
    "student_answers"
   ]
  },
  {
   "cell_type": "code",
   "execution_count": 16,
   "id": "c7d33202",
   "metadata": {},
   "outputs": [
    {
     "data": {
      "text/plain": [
       "{1: 'Correct Answer: C. George Washington\\n',\n",
       " 2: 'Correct Answer: A. 1776\\n',\n",
       " 3: 'Correct Answer: B. Battle of Yorktown\\n',\n",
       " 4: 'Correct Answer: C. James Madison\\n'}"
      ]
     },
     "execution_count": 16,
     "metadata": {},
     "output_type": "execute_result"
    }
   ],
   "source": [
    "answers"
   ]
  },
  {
   "cell_type": "code",
   "execution_count": 17,
   "id": "780439ed",
   "metadata": {},
   "outputs": [],
   "source": [
    "def grade(correct_answer_dict, student_answers):\n",
    "    correct_answers = 0\n",
    "    for question, answer in student_answers.items():\n",
    "        if answer.upper() == correct_answer_dict[question][16]:\n",
    "            correct_answers += 1\n",
    "    grade = 100*correct_answers / len(answers)\n",
    "    \n",
    "    if grade <60:\n",
    "        passed = \"NO PASS\"\n",
    "    else:\n",
    "        passed = \"PASS!\"\n",
    "        \n",
    "    return f\"{correct_answers}/{len(answers)} correct! You got {grade}% grade, {passed}\""
   ]
  },
  {
   "cell_type": "code",
   "execution_count": 18,
   "id": "547bcc66",
   "metadata": {},
   "outputs": [
    {
     "data": {
      "text/plain": [
       "'0/4 correct! You got 0.0% grade, NO PASS'"
      ]
     },
     "execution_count": 18,
     "metadata": {},
     "output_type": "execute_result"
    }
   ],
   "source": [
    "grade(answers, student_answers)"
   ]
  },
  {
   "cell_type": "code",
   "execution_count": null,
   "id": "17913dfb",
   "metadata": {},
   "outputs": [],
   "source": []
  }
 ],
 "metadata": {
  "kernelspec": {
   "display_name": "Python 3",
   "language": "python",
   "name": "python3"
  },
  "language_info": {
   "codemirror_mode": {
    "name": "ipython",
    "version": 3
   },
   "file_extension": ".py",
   "mimetype": "text/x-python",
   "name": "python",
   "nbconvert_exporter": "python",
   "pygments_lexer": "ipython3",
   "version": "3.8.8"
  }
 },
 "nbformat": 4,
 "nbformat_minor": 5
}
